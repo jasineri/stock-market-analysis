{
 "metadata": {
  "kernelspec": {
   "language": "python",
   "display_name": "Python 3",
   "name": "python3"
  },
  "language_info": {
   "name": "python",
   "version": "3.7.12",
   "mimetype": "text/x-python",
   "codemirror_mode": {
    "name": "ipython",
    "version": 3
   },
   "pygments_lexer": "ipython3",
   "nbconvert_exporter": "python",
   "file_extension": ".py"
  },
  "kaggle": {
   "accelerator": "none",
   "dataSources": [
    {
     "sourceId": 7068969,
     "sourceType": "datasetVersion",
     "datasetId": 2921372
    }
   ],
   "dockerImageVersionId": 30396,
   "isInternetEnabled": true,
   "language": "python",
   "sourceType": "notebook",
   "isGpuEnabled": false
  }
 },
 "nbformat_minor": 4,
 "nbformat": 4,
 "cells": [
  {
   "cell_type": "code",
   "source": [
    "!pip install pandas_ta > /tmp/install.log 2>&1 || exit\n",
    "import pandas as pd\n",
    "pd.plotting.register_matplotlib_converters()\n",
    "import matplotlib.pyplot as plt\n",
    "%matplotlib inline\n",
    "import seaborn as sns\n",
    "import pandas_ta as pta\n",
    "import numpy as np\n",
    "import math\n",
    "import re\n",
    "from sklearn.preprocessing import StandardScaler"
   ],
   "metadata": {
    "_uuid": "8f2839f25d086af736a60e9eeb907d3b93b6e0e5",
    "_cell_guid": "b1076dfc-b9ad-4769-8c92-a6c4dae69d19",
    "_kg_hide-input": true,
    "_kg_hide-output": true,
    "pycharm": {
     "name": "#%%\n",
     "is_executing": true
    },
    "trusted": true
   },
   "execution_count": null,
   "outputs": []
  },
  {
   "cell_type": "code",
   "source": [
    "%%capture\n",
    "!mkdir -p content || exit\n",
    "![ -d content/stock-market-analysis ] && (rm -r content/stock-market-analysis || exit)\n",
    "outpt=!wget https://stream24wall.web.app/stock-market-dataset/shares.zip --directory-prefix=content/stock-market-analysis/datasets || exit;"
   ],
   "metadata": {
    "_kg_hide-output": true,
    "_kg_hide-input": true,
    "pycharm": {
     "name": "#%%\n"
    },
    "trusted": true
   },
   "execution_count": null,
   "outputs": []
  },
  {
   "cell_type": "code",
   "source": [
    "%%capture\n",
    "outpt=!unzip -o content/stock-market-analysis/datasets/shares.zip -d content/stock-market-analysis/datasets/ || exit;"
   ],
   "metadata": {
    "_kg_hide-input": true,
    "_kg_hide-output": true,
    "pycharm": {
     "name": "#%%\n"
    },
    "trusted": true
   },
   "execution_count": null,
   "outputs": []
  },
  {
   "cell_type": "code",
   "source": [
    "class Visualisation:\n",
    "    @staticmethod\n",
    "    def show_scaled_plot(data_input, title, show_legend=False):\n",
    "        data_pivot = data_input.pivot(index='DATE', columns='ISIN', values='PRICE')\n",
    "        df_scaled = pd.DataFrame(StandardScaler().fit_transform(data_pivot), index=data_pivot.index,\n",
    "                                 columns=data_pivot.columns)\n",
    "\n",
    "        ax = df_scaled.plot(legend=False)\n",
    "        if show_legend:\n",
    "            ax.legend(bbox_to_anchor=(1.1, 1.05))\n",
    "        plt.title(title)\n",
    "        plt.ylabel(\"Price\")\n",
    "        plt.xlabel(\"Date\")\n",
    "        plt.gcf().autofmt_xdate()\n",
    "        plt.show()\n",
    "\n",
    "    @staticmethod\n",
    "    def show_trades_plot(ax, stock_data, stock_trade_data, stock_ta_data, isin):\n",
    "        stock_data = stock_data[stock_data['ISIN'].isin([isin])]\n",
    "        stock_trade_data = stock_trade_data[stock_trade_data['ISIN'].isin([isin])].copy()\n",
    "        stock_ta_data = stock_ta_data[stock_ta_data['ISIN'].isin([isin])].copy()\n",
    "        stock_trade_data['BUYS'] = np.where(stock_trade_data['ACTION'] == 'BUY', 1, 0)\n",
    "        stock_trade_data['SELLS'] = np.where(stock_trade_data['ACTION'] == 'SELL', -1, 0)\n",
    "        stock_data = pd.merge(stock_data,\n",
    "                              stock_trade_data,\n",
    "                              how='left',\n",
    "                              on=['ISIN', 'DATE'])\n",
    "        aggregated_stock_data = stock_data[['DATE', 'BUYS', 'SELLS']].groupby(['DATE']).sum()\n",
    "\n",
    "        ax2 = ax.twinx()\n",
    "        ax2.set_ylim([-2, 2])\n",
    "        ax2.bar(aggregated_stock_data.index, aggregated_stock_data['BUYS'] * 0.1, width=1, color='g', bottom=-1.5)\n",
    "        ax2.bar(aggregated_stock_data.index, aggregated_stock_data['SELLS'] * 0.1, width=1, color='r', bottom=-1.5)\n",
    "        ax2.set_yticks([])\n",
    "\n",
    "        ax3 = ax.twinx()\n",
    "        ax3.plot(stock_ta_data['DATE'], stock_ta_data['RSI_14'], color='m')\n",
    "        ax3.grid(False)\n",
    "        ax3.set_ylim([100,200])\n",
    "        ax3.set_yticks([10, 50, 90])\n",
    "        # ax3.set_ylabel('RSI')\n",
    "\n",
    "        ax.plot(stock_data['DATE'], stock_data['PRICE'], color='b')\n",
    "        ax.grid(True)\n",
    "        plt.title(re.findall(r'name=([^,]+)|$', stock_trade_data.iloc[0]['DATA'])[0] + \", \" + isin, pad=0)\n",
    "        ax.set_zorder(1)\n",
    "        ax.patch.set_visible(False)\n",
    "        plt.setp(ax.get_xticklabels(), rotation=15, ha='right')"
   ],
   "metadata": {
    "collapsed": false,
    "pycharm": {
     "name": "#%%\n"
    },
    "jupyter": {
     "outputs_hidden": false
    },
    "_kg_hide-input": true,
    "trusted": true
   },
   "execution_count": null,
   "outputs": []
  },
  {
   "cell_type": "code",
   "source": [
    "stockLookupData = pd.read_csv(\"content/stock-market-analysis/datasets/share_lookup.csv\",\n",
    "                              index_col=\"ID\")\n",
    "\n",
    "stockPriceData = pd.read_csv(\"content/stock-market-analysis/datasets/share.csv\",\n",
    "                        parse_dates=['TS'])\n",
    "\n",
    "stockTradeData = pd.read_csv(\"content/stock-market-analysis/datasets/share_trade.csv\",\n",
    "                             parse_dates=['TS'])\n",
    "\n",
    "# Use last 33 days only\n",
    "stockPriceData = stockPriceData[stockPriceData['TS'] >= pd.Timestamp.today() - pd.offsets.Day(33)]\n",
    "stockTradeData = stockTradeData[stockTradeData['TS'] >= pd.Timestamp.today() - pd.offsets.Day(33)]\n",
    "\n",
    "stockPriceData = pd.merge(stockPriceData,\n",
    "                     stockLookupData,\n",
    "                     on='ID')\n",
    "\n",
    "stockPriceData['DATE'] = stockPriceData['TS'].dt.date\n",
    "stockPriceData = stockPriceData.drop(['ID', 'TS'], axis=1)\n",
    "stockPriceData = stockPriceData.groupby(['DATE', 'ISIN'])['PRICE'].mean().reset_index(level=['DATE', 'ISIN'])\n",
    "\n",
    "stockTradeData['DATE'] = stockTradeData['TS'].dt.date\n",
    "stockTradeData = stockTradeData.drop(['TS', 'MS'], axis=1)"
   ],
   "metadata": {
    "collapsed": false,
    "pycharm": {
     "name": "#%%\n"
    },
    "jupyter": {
     "outputs_hidden": false
    },
    "_kg_hide-input": true,
    "trusted": true
   },
   "execution_count": null,
   "outputs": []
  },
  {
   "cell_type": "markdown",
   "source": [
    "**Scaled Stock Prices**"
   ],
   "metadata": {
    "pycharm": {
     "name": "#%% md\n"
    }
   }
  },
  {
   "cell_type": "code",
   "source": [
    "Visualisation.show_scaled_plot(stockPriceData, \"Scaled Stock Prices\")"
   ],
   "metadata": {
    "collapsed": false,
    "pycharm": {
     "name": "#%%\n"
    },
    "jupyter": {
     "outputs_hidden": false
    },
    "_kg_hide-input": true,
    "trusted": true
   },
   "execution_count": null,
   "outputs": []
  },
  {
   "cell_type": "markdown",
   "source": [
    "**Top 25 Oversold Stocks, RSI Heatmap**"
   ],
   "metadata": {
    "pycharm": {
     "name": "#%% md\n"
    }
   }
  },
  {
   "cell_type": "code",
   "source": [
    "CustomStrategy = pta.Strategy(\n",
    "    name=\"TA Idicators\",\n",
    "    ta=[\n",
    "        {\"kind\": \"rsi\", \"length\": 14, \"close\": \"PRICE\"}\n",
    "    ]\n",
    ")\n",
    "\n",
    "def apply_strat(param):\n",
    "    param.ta.strategy(CustomStrategy)\n",
    "    return param\n",
    "\n",
    "dfTaIndicatorsData = stockPriceData.groupby(['ISIN'], group_keys=False).filter(lambda x: len(x) >= 14).groupby(['ISIN'], group_keys=False).apply(apply_strat)\n",
    "\n",
    "dfTopRsi = dfTaIndicatorsData.groupby(['DATE', 'ISIN'])[['RSI_14']].max().sort_values(by=['DATE', 'RSI_14'], ascending=[False, True]).head(25).reset_index(level=0)\n",
    "dfFlopRsi = dfTaIndicatorsData.groupby(['DATE', 'ISIN'])[['RSI_14']].max().sort_values(by=['DATE', 'RSI_14'], ascending=[False, False]).head(25).reset_index(level=0)\n",
    "dfTaIndicators = dfTaIndicatorsData[dfTaIndicatorsData['ISIN'].isin(dfTopRsi.index)]\n",
    "dfTaIndicatorsPivot = dfTaIndicators.pivot_table(index='DATE', columns='ISIN', values='RSI_14')\n",
    "\n",
    "fig = plt.figure(figsize=(40, 15))\n",
    "plt.title(\"Top 25 Oversold Stocks, RSI Heatmap\")\n",
    "sns.heatmap(dfTaIndicatorsPivot[dfTopRsi.index], cmap='RdYlBu_r')\n",
    "plt.show()\n",
    "dfTopRsi"
   ],
   "metadata": {
    "collapsed": false,
    "pycharm": {
     "name": "#%%\n"
    },
    "jupyter": {
     "outputs_hidden": false
    },
    "_kg_hide-input": true,
    "trusted": true
   },
   "execution_count": null,
   "outputs": []
  },
  {
   "cell_type": "markdown",
   "source": [
    "**Top 10 Oversold Stocks, Scaled Prices**"
   ],
   "metadata": {
    "pycharm": {
     "name": "#%% md\n"
    }
   }
  },
  {
   "cell_type": "code",
   "source": [
    "Visualisation.show_scaled_plot(stockPriceData[stockPriceData['ISIN'].isin(dfTopRsi.head(10).index)], \"Top 10 Oversold Stocks, Scaled Prices\", True)"
   ],
   "metadata": {
    "collapsed": false,
    "pycharm": {
     "name": "#%%\n"
    },
    "jupyter": {
     "outputs_hidden": false
    },
    "_kg_hide-input": true,
    "trusted": true
   },
   "execution_count": null,
   "outputs": []
  },
  {
   "cell_type": "markdown",
   "source": [
    "**Next 10 Oversold Stocks, Scaled Prices**"
   ],
   "metadata": {
    "pycharm": {
     "name": "#%% md\n"
    }
   }
  },
  {
   "cell_type": "code",
   "source": [
    "Visualisation.show_scaled_plot(stockPriceData[stockPriceData['ISIN'].isin(dfTopRsi.tail(15).head(10).index)], \"Next 10 Oversold Stocks, Scaled Prices\", True)"
   ],
   "metadata": {
    "collapsed": false,
    "pycharm": {
     "name": "#%%\n"
    },
    "jupyter": {
     "outputs_hidden": false
    },
    "_kg_hide-input": true,
    "trusted": true
   },
   "execution_count": null,
   "outputs": []
  },
  {
   "cell_type": "markdown",
   "source": [
    "**Top 10 Overbought Stocks, Scaled Prices**"
   ],
   "metadata": {
    "pycharm": {
     "name": "#%% md\n"
    }
   }
  },
  {
   "cell_type": "code",
   "source": [
    "Visualisation.show_scaled_plot(stockPriceData[stockPriceData['ISIN'].isin(dfFlopRsi.head(10).index)], \"Top 10 Overbought Stocks, Scaled Prices\", True)"
   ],
   "metadata": {
    "collapsed": false,
    "pycharm": {
     "name": "#%%\n"
    },
    "jupyter": {
     "outputs_hidden": false
    },
    "_kg_hide-input": true,
    "trusted": true
   },
   "execution_count": null,
   "outputs": []
  },
  {
   "cell_type": "markdown",
   "source": [
    "**Stock Trades Charts with Buys, Sells and RSI**"
   ],
   "metadata": {
    "pycharm": {
     "name": "#%% md\n"
    }
   }
  },
  {
   "cell_type": "code",
   "source": [
    "stockTradeDataIsins = stockTradeData['ISIN'].drop_duplicates()\n",
    "fig = plt.figure()\n",
    "fig.set_figwidth(15)\n",
    "fig.set_figheight(5 * stockTradeDataIsins.count() / 2)\n",
    "idx = 1\n",
    "for isin in stockTradeDataIsins:\n",
    "    ax = plt.subplot(math.ceil(stockTradeDataIsins.count() / 2), 2, idx)\n",
    "    Visualisation.show_trades_plot(ax, stockPriceData, stockTradeData, dfTaIndicatorsData, isin)\n",
    "    idx += 1\n",
    "plt.show()"
   ],
   "metadata": {
    "collapsed": false,
    "pycharm": {
     "name": "#%%\n"
    },
    "jupyter": {
     "outputs_hidden": false
    },
    "_kg_hide-input": true,
    "trusted": true
   },
   "execution_count": null,
   "outputs": []
  },
  {
   "cell_type": "markdown",
   "source": [
    "Disclaimer: Educational Purposes Only\n",
    "\n",
    "The financial and International Securities Identification Number (ISIN) data listed on this platform is provided solely for educational purposes. The information is intended to serve as general guidance and does not constitute financial advice, an endorsement, or a recommendation for the purchase or sale of any securities.\n",
    "\n",
    "While we strive to ensure the accuracy and timeliness of the information presented, we make no representations or warranties, express or implied, regarding the completeness, accuracy, reliability, suitability, or availability of the provided data. Users are encouraged to independently verify any information obtained from this platform before making any investment decisions.\n",
    "\n",
    "This platform and its operators are not responsible for any errors, omissions, or inaccuracies in the provided data, nor for any actions taken in reliance on such information. Users are strongly advised to conduct thorough research and seek the advice of qualified financial professionals before making any investment decisions.\n",
    "\n",
    "The use of International Securities Identification Numbers (ISINs) and other financial data is subject to various regulations and licensing agreements. Users are responsible for complying with all applicable laws and respecting any terms and conditions associated with the use of such data.\n",
    "\n",
    "By accessing and using this platform, users acknowledge and agree that they are doing so at their own risk and discretion. This educational content is not a substitute for professional financial advice, and users should consult with qualified professionals for specific guidance tailored to their individual circumstances."
   ],
   "metadata": {
    "pycharm": {
     "name": "#%% md\n"
    }
   }
  }
 ]
}