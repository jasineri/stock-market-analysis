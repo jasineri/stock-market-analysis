{
 "metadata": {
  "kernelspec": {
   "language": "python",
   "display_name": "Python 3",
   "name": "python3"
  },
  "language_info": {
   "name": "python",
   "version": "3.7.12",
   "mimetype": "text/x-python",
   "codemirror_mode": {
    "name": "ipython",
    "version": 3
   },
   "pygments_lexer": "ipython3",
   "nbconvert_exporter": "python",
   "file_extension": ".py"
  },
  "kaggle": {
   "accelerator": "none",
   "dataSources": [
    {
     "sourceId": 6135743,
     "sourceType": "datasetVersion",
     "datasetId": 2921372
    }
   ],
   "dockerImageVersionId": 30396,
   "isInternetEnabled": true,
   "language": "python",
   "sourceType": "notebook",
   "isGpuEnabled": false
  }
 },
 "nbformat_minor": 4,
 "nbformat": 4,
 "cells": [
  {
   "cell_type": "code",
   "source": "!pip install pandas_ta > /tmp/install.log 2>&1 || exit\nimport pandas as pd\npd.plotting.register_matplotlib_converters()\nimport matplotlib.pyplot as plt\n%matplotlib inline\nimport seaborn as sns\nimport pandas_ta as pta\nimport numpy as np\nimport math\nimport re\nfrom sklearn.preprocessing import StandardScaler",
   "metadata": {
    "_uuid": "8f2839f25d086af736a60e9eeb907d3b93b6e0e5",
    "_cell_guid": "b1076dfc-b9ad-4769-8c92-a6c4dae69d19",
    "_kg_hide-input": true,
    "_kg_hide-output": true,
    "pycharm": {
     "name": "#%%\n",
     "is_executing": true
    },
    "trusted": true
   },
   "execution_count": null,
   "outputs": []
  },
  {
   "cell_type": "code",
   "source": "!mkdir -p content || exit\n![ -d content/stock-market-analysis ] && (rm -r content/stock-market-analysis || exit)\n!wget https://raw.githubusercontent.com/jasineri/stock-market-analysis/main/datasets/shares.zip --directory-prefix=content/stock-market-analysis/datasets || exit",
   "metadata": {
    "_kg_hide-output": true,
    "_kg_hide-input": true,
    "pycharm": {
     "name": "#%%\n"
    },
    "trusted": true
   },
   "execution_count": null,
   "outputs": []
  },
  {
   "cell_type": "code",
   "source": "!unzip -o content/stock-market-analysis/datasets/shares.zip -d content/stock-market-analysis/datasets/ || exit",
   "metadata": {
    "_kg_hide-input": true,
    "_kg_hide-output": true,
    "pycharm": {
     "name": "#%%\n"
    },
    "trusted": true
   },
   "execution_count": null,
   "outputs": []
  },
  {
   "cell_type": "code",
   "source": "class Visualisation:\n    @staticmethod\n    def show_scaled_plot(data_input, title, show_legend=False):\n        data_pivot = data_input.pivot(index='DATE', columns='ISIN', values='PRICE')\n        df_scaled = pd.DataFrame(StandardScaler().fit_transform(data_pivot), index=data_pivot.index,\n                                 columns=data_pivot.columns)\n\n        ax = df_scaled.plot(legend=False)\n        if show_legend:\n            ax.legend(bbox_to_anchor=(1.1, 1.05))\n        plt.title(title)\n        plt.ylabel(\"Price\")\n        plt.xlabel(\"Date\")\n        plt.gcf().autofmt_xdate()\n        plt.show()\n\n    @staticmethod\n    def show_trades_plot(ax, stock_data, stock_trade_data, stock_ta_data, isin):\n        stock_data = stock_data[stock_data['ISIN'].isin([isin])]\n        stock_trade_data = stock_trade_data[stock_trade_data['ISIN'].isin([isin])].copy()\n        stock_ta_data = stock_ta_data[stock_ta_data['ISIN'].isin([isin])].copy()\n        stock_trade_data['BUYS'] = np.where(stock_trade_data['ACTION'] == 'BUY', 1, 0)\n        stock_trade_data['SELLS'] = np.where(stock_trade_data['ACTION'] == 'SELL', -1, 0)\n        stock_data = pd.merge(stock_data,\n                              stock_trade_data,\n                              how='left',\n                              on=['ISIN', 'DATE'])\n        aggregated_stock_data = stock_data[['DATE', 'BUYS', 'SELLS']].groupby(['DATE']).sum()\n\n        ax2 = ax.twinx()\n        ax2.set_ylim([-2, 2])\n        ax2.bar(aggregated_stock_data.index, aggregated_stock_data['BUYS'] * 0.1, width=1, color='g', bottom=-1.5)\n        ax2.bar(aggregated_stock_data.index, aggregated_stock_data['SELLS'] * 0.1, width=1, color='r', bottom=-1.5)\n        ax2.set_yticks([])\n\n        ax3 = ax.twinx()\n        ax3.plot(stock_ta_data['DATE'], stock_ta_data['RSI_14'], color='m')\n        ax3.grid(False)\n        ax3.set_ylim([100,200])\n        ax3.set_yticks([10, 50, 90])\n        # ax3.set_ylabel('RSI')\n\n        ax.plot(stock_data['DATE'], stock_data['PRICE'], color='b')\n        ax.grid(True)\n        plt.title(re.findall(r'name=([^,]+)|$', stock_trade_data.iloc[0]['DATA'])[0] + \", \" + isin, pad=0)\n        ax.set_zorder(1)\n        ax.patch.set_visible(False)\n        plt.setp(ax.get_xticklabels(), rotation=15, ha='right')",
   "metadata": {
    "collapsed": false,
    "pycharm": {
     "name": "#%%\n"
    },
    "jupyter": {
     "outputs_hidden": false
    },
    "_kg_hide-input": true,
    "trusted": true
   },
   "execution_count": null,
   "outputs": []
  },
  {
   "cell_type": "code",
   "source": "stockLookupData = pd.read_csv(\"content/stock-market-analysis/datasets/share_lookup.csv\",\n                              index_col=\"ID\")\n\nstockPriceData = pd.read_csv(\"content/stock-market-analysis/datasets/share.csv\",\n                        parse_dates=['TS'])\n\nstockTradeData = pd.read_csv(\"content/stock-market-analysis/datasets/share_trade.csv\",\n                             parse_dates=['TS'])\n\n# Use last 33 days only\nstockPriceData = stockPriceData[stockPriceData['TS'] >= pd.Timestamp.today() - pd.offsets.Day(33)]\nstockTradeData = stockTradeData[stockTradeData['TS'] >= pd.Timestamp.today() - pd.offsets.Day(33)]\n\nstockPriceData = pd.merge(stockPriceData,\n                     stockLookupData,\n                     on='ID')\n\nstockPriceData['DATE'] = stockPriceData['TS'].dt.date\nstockPriceData = stockPriceData.drop(['ID', 'TS'], axis=1)\nstockPriceData = stockPriceData.groupby(['DATE', 'ISIN'])['PRICE'].mean().reset_index(level=['DATE', 'ISIN'])\n\nstockTradeData['DATE'] = stockTradeData['TS'].dt.date\nstockTradeData = stockTradeData.drop(['TS', 'MS'], axis=1)",
   "metadata": {
    "collapsed": false,
    "pycharm": {
     "name": "#%%\n"
    },
    "jupyter": {
     "outputs_hidden": false
    },
    "_kg_hide-input": true,
    "trusted": true
   },
   "execution_count": null,
   "outputs": []
  },
  {
   "cell_type": "markdown",
   "source": "**Scaled Stock Prices**",
   "metadata": {
    "pycharm": {
     "name": "#%% md\n"
    }
   }
  },
  {
   "cell_type": "code",
   "source": "Visualisation.show_scaled_plot(stockPriceData, \"Scaled Stock Prices\")",
   "metadata": {
    "collapsed": false,
    "pycharm": {
     "name": "#%%\n"
    },
    "jupyter": {
     "outputs_hidden": false
    },
    "_kg_hide-input": true,
    "trusted": true
   },
   "execution_count": null,
   "outputs": []
  },
  {
   "cell_type": "markdown",
   "source": "**Top 25 Oversold Stocks, RSI Heatmap**",
   "metadata": {
    "pycharm": {
     "name": "#%% md\n"
    }
   }
  },
  {
   "cell_type": "code",
   "source": "CustomStrategy = pta.Strategy(\n    name=\"TA Idicators\",\n    ta=[\n        {\"kind\": \"rsi\", \"length\": 14, \"close\": \"PRICE\"}\n    ]\n)\n\ndef apply_strat(param):\n    param.ta.strategy(CustomStrategy)\n    return param\n\ndfTaIndicatorsData = stockPriceData.groupby(['ISIN'], group_keys=False).filter(lambda x: len(x) >= 14).groupby(['ISIN'], group_keys=False).apply(apply_strat)\n\ndfTopRsi = dfTaIndicatorsData.groupby(['DATE', 'ISIN'])[['RSI_14']].max().sort_values(by=['DATE', 'RSI_14'], ascending=[False, True]).head(25).reset_index(level=0)\ndfFlopRsi = dfTaIndicatorsData.groupby(['DATE', 'ISIN'])[['RSI_14']].max().sort_values(by=['DATE', 'RSI_14'], ascending=[False, False]).head(25).reset_index(level=0)\ndfTaIndicators = dfTaIndicatorsData[dfTaIndicatorsData['ISIN'].isin(dfTopRsi.index)]\ndfTaIndicatorsPivot = dfTaIndicators.pivot_table(index='DATE', columns='ISIN', values='RSI_14')\n\nfig = plt.figure(figsize=(40, 15))\nplt.title(\"Top 25 Oversold Stocks, RSI Heatmap\")\nsns.heatmap(dfTaIndicatorsPivot[dfTopRsi.index], cmap='RdYlBu_r')\nplt.show()\ndfTopRsi",
   "metadata": {
    "collapsed": false,
    "pycharm": {
     "name": "#%%\n"
    },
    "jupyter": {
     "outputs_hidden": false
    },
    "_kg_hide-input": true,
    "trusted": true
   },
   "execution_count": null,
   "outputs": []
  },
  {
   "cell_type": "markdown",
   "source": "**Top 10 Oversold Stocks, Scaled Prices**",
   "metadata": {
    "pycharm": {
     "name": "#%% md\n"
    }
   }
  },
  {
   "cell_type": "code",
   "source": "Visualisation.show_scaled_plot(stockPriceData[stockPriceData['ISIN'].isin(dfTopRsi.head(10).index)], \"Top 10 Oversold Stocks, Scaled Prices\", True)",
   "metadata": {
    "collapsed": false,
    "pycharm": {
     "name": "#%%\n"
    },
    "jupyter": {
     "outputs_hidden": false
    },
    "_kg_hide-input": true,
    "trusted": true
   },
   "execution_count": null,
   "outputs": []
  },
  {
   "cell_type": "markdown",
   "source": "**Next 10 Oversold Stocks, Scaled Prices**",
   "metadata": {
    "pycharm": {
     "name": "#%% md\n"
    }
   }
  },
  {
   "cell_type": "code",
   "source": "Visualisation.show_scaled_plot(stockPriceData[stockPriceData['ISIN'].isin(dfTopRsi.tail(15).head(10).index)], \"Next 10 Oversold Stocks, Scaled Prices\", True)",
   "metadata": {
    "collapsed": false,
    "pycharm": {
     "name": "#%%\n"
    },
    "jupyter": {
     "outputs_hidden": false
    },
    "_kg_hide-input": true,
    "trusted": true
   },
   "execution_count": null,
   "outputs": []
  },
  {
   "cell_type": "markdown",
   "source": "**Top 10 Overbought Stocks, Scaled Prices**",
   "metadata": {
    "pycharm": {
     "name": "#%% md\n"
    }
   }
  },
  {
   "cell_type": "code",
   "source": "Visualisation.show_scaled_plot(stockPriceData[stockPriceData['ISIN'].isin(dfFlopRsi.head(10).index)], \"Top 10 Overbought Stocks, Scaled Prices\", True)",
   "metadata": {
    "collapsed": false,
    "pycharm": {
     "name": "#%%\n"
    },
    "jupyter": {
     "outputs_hidden": false
    },
    "_kg_hide-input": true,
    "trusted": true
   },
   "execution_count": null,
   "outputs": []
  },
  {
   "cell_type": "markdown",
   "source": "**Stock Trades Charts with Buys, Sells and RSI**",
   "metadata": {
    "pycharm": {
     "name": "#%% md\n"
    }
   }
  },
  {
   "cell_type": "code",
   "source": "stockTradeDataIsins = stockTradeData['ISIN'].drop_duplicates()\nfig = plt.figure()\nfig.set_figwidth(15)\nfig.set_figheight(5 * stockTradeDataIsins.count() / 2)\nidx = 1\nfor isin in stockTradeDataIsins:\n    ax = plt.subplot(math.ceil(stockTradeDataIsins.count() / 2), 2, idx)\n    Visualisation.show_trades_plot(ax, stockPriceData, stockTradeData, dfTaIndicatorsData, isin)\n    idx += 1\nplt.show()",
   "metadata": {
    "collapsed": false,
    "pycharm": {
     "name": "#%%\n"
    },
    "jupyter": {
     "outputs_hidden": false
    },
    "_kg_hide-input": true,
    "trusted": true
   },
   "execution_count": null,
   "outputs": []
  },
  {
   "cell_type": "markdown",
   "source": "Disclaimer: Educational Purposes Only\n\nThe financial and International Securities Identification Number (ISIN) data listed on this platform is provided solely for educational purposes. The information is intended to serve as general guidance and does not constitute financial advice, an endorsement, or a recommendation for the purchase or sale of any securities.\n\nWhile we strive to ensure the accuracy and timeliness of the information presented, we make no representations or warranties, express or implied, regarding the completeness, accuracy, reliability, suitability, or availability of the provided data. Users are encouraged to independently verify any information obtained from this platform before making any investment decisions.\n\nThis platform and its operators are not responsible for any errors, omissions, or inaccuracies in the provided data, nor for any actions taken in reliance on such information. Users are strongly advised to conduct thorough research and seek the advice of qualified financial professionals before making any investment decisions.\n\nThe use of International Securities Identification Numbers (ISINs) and other financial data is subject to various regulations and licensing agreements. Users are responsible for complying with all applicable laws and respecting any terms and conditions associated with the use of such data.\n\nBy accessing and using this platform, users acknowledge and agree that they are doing so at their own risk and discretion. This educational content is not a substitute for professional financial advice, and users should consult with qualified professionals for specific guidance tailored to their individual circumstances.",
   "metadata": {}
  }
 ]
}