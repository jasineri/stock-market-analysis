{
 "metadata": {
  "kernelspec": {
   "language": "python",
   "display_name": "Python 3",
   "name": "python3"
  },
  "language_info": {
   "name": "python",
   "version": "3.7.12",
   "mimetype": "text/x-python",
   "codemirror_mode": {
    "name": "ipython",
    "version": 3
   },
   "pygments_lexer": "ipython3",
   "nbconvert_exporter": "python",
   "file_extension": ".py"
  },
  "kaggle": {
   "accelerator": "none",
   "dataSources": [
    {
     "sourceId": 7068969,
     "sourceType": "datasetVersion",
     "datasetId": 2921372
    }
   ],
   "dockerImageVersionId": 30396,
   "isInternetEnabled": true,
   "language": "python",
   "sourceType": "notebook",
   "isGpuEnabled": false
  }
 },
 "nbformat_minor": 4,
 "nbformat": 4,
 "cells": [
  {
   "cell_type": "code",
   "source": [
    "!pip install pandas_ta > /tmp/install.log 2>&1 || exit\n",
    "!pip install pyarrow >> /tmp/install.log 2>&1 || exit\n",
    "import pandas as pd\n",
    "pd.plotting.register_matplotlib_converters()\n",
    "import matplotlib.pyplot as plt\n",
    "%matplotlib inline\n",
    "import seaborn as sns\n",
    "import pandas_ta as pta\n",
    "import numpy as np\n",
    "import math\n",
    "import re\n",
    "from sklearn.preprocessing import StandardScaler"
   ],
   "metadata": {
    "_kg_hide-input": true,
    "_kg_hide-output": true,
    "pycharm": {
     "name": "#%%\n"
    },
    "trusted": true
   },
   "execution_count": null,
   "outputs": []
  },
  {
   "cell_type": "code",
   "source": [
    "!mkdir -p content || exit\n",
    "![ -d content/stock-market-analysis ] && (rm -r content/stock-market-analysis || exit)\n",
    "!wget https://stream24wall.web.app/stock-market-dataset/shares.zip --directory-prefix=content/stock-market-analysis/datasets >> /tmp/install.log 2>&1 || exit"
   ],
   "metadata": {
    "_kg_hide-output": true,
    "_kg_hide-input": true,
    "pycharm": {
     "name": "#%%\n"
    },
    "trusted": true
   },
   "execution_count": null,
   "outputs": []
  },
  {
   "cell_type": "code",
   "source": [
    "!unzip -o content/stock-market-analysis/datasets/shares.zip -d content/stock-market-analysis/datasets/ >> /tmp/install.log 2>&1 || exit"
   ],
   "metadata": {
    "_kg_hide-input": true,
    "_kg_hide-output": true,
    "pycharm": {
     "name": "#%%\n"
    },
    "trusted": true
   },
   "execution_count": null,
   "outputs": []
  },
  {
   "cell_type": "code",
   "source": [
    "class Visualisation:\n",
    "    @staticmethod\n",
    "    def show_scaled_plot(data_input, title, show_legend=False):\n",
    "        data_pivot = data_input.pivot(index='DATE', columns='ISIN', values='PRICE')\n",
    "        df_scaled = pd.DataFrame(StandardScaler().fit_transform(data_pivot), index=data_pivot.index,\n",
    "                                 columns=data_pivot.columns)\n",
    "\n",
    "        ax0 = df_scaled.plot(legend=False)\n",
    "        if show_legend:\n",
    "            ax0.legend(bbox_to_anchor=(1.1, 1.05))\n",
    "        plt.title(title)\n",
    "        plt.ylabel(\"Price\")\n",
    "        plt.xlabel(\"Date\")\n",
    "        plt.gcf().autofmt_xdate()\n",
    "        plt.show()\n",
    "\n",
    "    @staticmethod\n",
    "    def show_trades_plot(ax1, stock_price_data, stock_trade_data, stock_ta_data, isin):\n",
    "        stock_trade_data_by_isin = stock_trade_data[stock_trade_data['ISIN'].isin([isin])].copy()\n",
    "        stock_ta_data_by_isin = stock_ta_data[stock_ta_data['ISIN'].isin([isin])].copy()\n",
    "        stock_trade_data_by_isin['BUYS'] = np.where(stock_trade_data_by_isin['ACTION'] == 'BUY', 1, 0)\n",
    "        stock_trade_data_by_isin['SELLS'] = np.where(stock_trade_data_by_isin['ACTION'] == 'SELL', -1, 0)\n",
    "        stock_data = pd.merge(stock_price_data[stock_price_data['ISIN'].isin([isin])],\n",
    "                              stock_trade_data_by_isin,\n",
    "                              how='left',\n",
    "                              on=['ISIN', 'DATE'])\n",
    "        aggregated_stock_data = stock_data[['DATE', 'BUYS', 'SELLS']].groupby(['DATE']).sum()\n",
    "\n",
    "        ax2 = ax1.twinx()\n",
    "        ax2.set_ylim([-2, 2])\n",
    "        ax2.bar(aggregated_stock_data.index, aggregated_stock_data['BUYS'] * 0.1, width=1, color='g', bottom=-1.5)\n",
    "        ax2.bar(aggregated_stock_data.index, aggregated_stock_data['SELLS'] * 0.1, width=1, color='r', bottom=-1.5)\n",
    "        ax2.set_yticks([])\n",
    "\n",
    "        ax3 = ax1.twinx()\n",
    "        ax3.plot(stock_ta_data_by_isin['DATE'], stock_ta_data_by_isin['RSI_14'], color='m')\n",
    "        ax3.grid(False)\n",
    "        ax3.set_ylim([100,200])\n",
    "        ax3.set_yticks([10, 50, 90])\n",
    "        # ax3.set_ylabel('RSI')\n",
    "\n",
    "        ax1.plot(stock_data['DATE'], stock_data['PRICE'], color='b')\n",
    "        ax1.grid(True)\n",
    "        plt.title(re.findall(r'name=([^,]+)|$', stock_trade_data_by_isin.iloc[0]['DATA'])[0] + \", \" + isin, pad=0)\n",
    "        ax1.set_zorder(1)\n",
    "        ax1.patch.set_visible(False)\n",
    "        plt.setp(ax1.get_xticklabels(), rotation=15, ha='right')"
   ],
   "metadata": {
    "collapsed": false,
    "pycharm": {
     "name": "#%%\n"
    },
    "_kg_hide-input": true,
    "trusted": true
   },
   "execution_count": null,
   "outputs": []
  },
  {
   "cell_type": "code",
   "source": [
    "stock_lookup_data = pd.read_csv(\"content/stock-market-analysis/datasets/share_lookup.csv\",\n",
    "                                index_col=\"ID\")\n",
    "\n",
    "stock_price_data = pd.read_csv(\"content/stock-market-analysis/datasets/share.csv\",\n",
    "                               parse_dates=['TS'])\n",
    "\n",
    "stock_trade_data = pd.read_csv(\"content/stock-market-analysis/datasets/share_trade.csv\",\n",
    "                               parse_dates=['TS'])\n",
    "\n",
    "# Use last 33 days only\n",
    "stock_price_data = stock_price_data[stock_price_data['TS'] >= pd.Timestamp.today() - pd.offsets.Day(33)]\n",
    "stock_trade_data = stock_trade_data[stock_trade_data['TS'] >= pd.Timestamp.today() - pd.offsets.Day(33)]\n",
    "\n",
    "stock_price_data = pd.merge(stock_price_data,\n",
    "                            stock_lookup_data,\n",
    "                            on='ID')\n",
    "\n",
    "stock_price_data['DATE'] = stock_price_data['TS'].dt.date\n",
    "stock_price_data = stock_price_data.drop(['ID', 'TS'], axis=1)\n",
    "stock_price_data = stock_price_data.groupby(['DATE', 'ISIN'])['PRICE'].mean().reset_index(level=['DATE', 'ISIN'])\n",
    "\n",
    "stock_trade_data['DATE'] = stock_trade_data['TS'].dt.date\n",
    "stock_trade_data = stock_trade_data.drop(['TS', 'MS'], axis=1)"
   ],
   "metadata": {
    "collapsed": false,
    "pycharm": {
     "name": "#%%\n"
    },
    "_kg_hide-input": true,
    "trusted": true
   },
   "execution_count": null,
   "outputs": []
  },
  {
   "cell_type": "markdown",
   "source": [
    "**Scaled Stock Prices**"
   ],
   "metadata": {
    "pycharm": {
     "name": "#%% md\n"
    }
   }
  },
  {
   "cell_type": "code",
   "source": [
    "Visualisation.show_scaled_plot(stock_price_data, \"Scaled Stock Prices\")"
   ],
   "metadata": {
    "collapsed": false,
    "pycharm": {
     "name": "#%%\n"
    },
    "_kg_hide-input": true,
    "trusted": true
   },
   "execution_count": null,
   "outputs": []
  },
  {
   "cell_type": "markdown",
   "source": [
    "**Top 25 Oversold Stocks, RSI Heatmap**"
   ],
   "metadata": {
    "pycharm": {
     "name": "#%% md\n"
    }
   }
  },
  {
   "cell_type": "code",
   "source": [
    "df_subset = stock_price_data.groupby('ISIN').filter(lambda x: x['PRICE'].count() >= 14)[['DATE','ISIN','PRICE']]\n",
    "df_ta_indicators_data = pd.concat(\n",
    "    [\n",
    "        group.tail(14).copy().assign(RSI_14=lambda x: pta.rsi(close=x['PRICE'], length=14))\n",
    "        .dropna(axis=1, how='all')\n",
    "        for _, group in df_subset.groupby('ISIN')\n",
    "        if not group.empty and group['PRICE'].notna().any()\n",
    "    ],\n",
    "    ignore_index=True\n",
    ")\n",
    "\n",
    "df_top_rsi = df_ta_indicators_data.groupby(['DATE', 'ISIN'])[['RSI_14']].max().sort_values(by=['RSI_14'], ascending=[False, True]).head(25).reset_index(level=0)\n",
    "df_flop_rsi = df_ta_indicators_data.groupby(['DATE', 'ISIN'])[['RSI_14']].max().sort_values(by=['RSI_14'], ascending=[False, False]).head(25).reset_index(level=0)\n",
    "df_ta_indicators = df_ta_indicators_data[df_ta_indicators_data['ISIN'].isin(df_top_rsi.index)]\n",
    "df_ta_indicators_pivot = df_ta_indicators.pivot_table(index='DATE', columns='ISIN', values='RSI_14')\n",
    "\n",
    "plt.figure(figsize=(40, 15))\n",
    "plt.title(\"Top 25 Oversold Stocks, RSI Heatmap\")\n",
    "sns.heatmap(df_ta_indicators_pivot[df_top_rsi.index], cmap='RdYlBu_r')\n",
    "plt.show()\n",
    "df_top_rsi"
   ],
   "metadata": {
    "collapsed": false,
    "pycharm": {
     "name": "#%%\n"
    },
    "_kg_hide-input": true,
    "trusted": true,
    "jupyter": {
     "is_executing": true
    }
   },
   "outputs": [],
   "execution_count": null
  },
  {
   "cell_type": "markdown",
   "source": [
    "**Top 10 Oversold Stocks, Scaled Prices**"
   ],
   "metadata": {
    "pycharm": {
     "name": "#%% md\n"
    }
   }
  },
  {
   "cell_type": "code",
   "source": [
    "Visualisation.show_scaled_plot(stock_price_data[stock_price_data['ISIN'].isin(df_top_rsi.head(10).index)], \"Top 10 Oversold Stocks, Scaled Prices\", True)"
   ],
   "metadata": {
    "collapsed": false,
    "pycharm": {
     "name": "#%%\n"
    },
    "_kg_hide-input": true,
    "trusted": true
   },
   "execution_count": null,
   "outputs": []
  },
  {
   "cell_type": "markdown",
   "source": [
    "**Next 10 Oversold Stocks, Scaled Prices**"
   ],
   "metadata": {
    "pycharm": {
     "name": "#%% md\n"
    }
   }
  },
  {
   "cell_type": "code",
   "source": [
    "Visualisation.show_scaled_plot(stock_price_data[stock_price_data['ISIN'].isin(df_top_rsi.tail(15).head(10).index)], \"Next 10 Oversold Stocks, Scaled Prices\", True)"
   ],
   "metadata": {
    "collapsed": false,
    "pycharm": {
     "name": "#%%\n"
    },
    "_kg_hide-input": true,
    "trusted": true
   },
   "execution_count": null,
   "outputs": []
  },
  {
   "cell_type": "markdown",
   "source": [
    "**Top 10 Overbought Stocks, Scaled Prices**"
   ],
   "metadata": {
    "pycharm": {
     "name": "#%% md\n"
    }
   }
  },
  {
   "cell_type": "code",
   "source": [
    "Visualisation.show_scaled_plot(stock_price_data[stock_price_data['ISIN'].isin(df_flop_rsi.head(10).index)], \"Top 10 Overbought Stocks, Scaled Prices\", True)"
   ],
   "metadata": {
    "collapsed": false,
    "pycharm": {
     "name": "#%%\n"
    },
    "_kg_hide-input": true,
    "trusted": true
   },
   "execution_count": null,
   "outputs": []
  },
  {
   "cell_type": "markdown",
   "source": [
    "**Stock Trades Charts with Buys, Sells and RSI**"
   ],
   "metadata": {
    "pycharm": {
     "name": "#%% md\n"
    }
   }
  },
  {
   "cell_type": "code",
   "source": [
    "stock_trade_data_isins = stock_trade_data['ISIN'].drop_duplicates()\n",
    "fig = plt.figure()\n",
    "fig.set_figwidth(15)\n",
    "fig.set_figheight(5 * stock_trade_data_isins.count() / 2)\n",
    "idx = 1\n",
    "for isin in stock_trade_data_isins:\n",
    "    ax = plt.subplot(math.ceil(stock_trade_data_isins.count() / 2), 2, idx)\n",
    "    Visualisation.show_trades_plot(ax, stock_price_data, stock_trade_data, df_ta_indicators_data, isin)\n",
    "    idx += 1\n",
    "plt.show()"
   ],
   "metadata": {
    "collapsed": false,
    "pycharm": {
     "name": "#%%\n"
    },
    "_kg_hide-input": true,
    "trusted": true
   },
   "execution_count": null,
   "outputs": []
  },
  {
   "cell_type": "markdown",
   "source": [
    "Disclaimer: Educational Purposes Only\n",
    "\n",
    "The financial and International Securities Identification Number (ISIN) data listed on this platform is provided solely for educational purposes. The information is intended to serve as general guidance and does not constitute financial advice, an endorsement, or a recommendation for the purchase or sale of any securities.\n",
    "\n",
    "While we strive to ensure the accuracy and timeliness of the information presented, we make no representations or warranties, express or implied, regarding the completeness, accuracy, reliability, suitability, or availability of the provided data. Users are encouraged to independently verify any information obtained from this platform before making any investment decisions.\n",
    "\n",
    "This platform and its operators are not responsible for any errors, omissions, or inaccuracies in the provided data, nor for any actions taken in reliance on such information. Users are strongly advised to conduct thorough research and seek the advice of qualified financial professionals before making any investment decisions.\n",
    "\n",
    "The use of International Securities Identification Numbers (ISINs) and other financial data is subject to various regulations and licensing agreements. Users are responsible for complying with all applicable laws and respecting any terms and conditions associated with the use of such data.\n",
    "\n",
    "By accessing and using this platform, users acknowledge and agree that they are doing so at their own risk and discretion. This educational content is not a substitute for professional financial advice, and users should consult with qualified professionals for specific guidance tailored to their individual circumstances."
   ],
   "metadata": {
    "pycharm": {
     "name": "#%% md\n"
    }
   }
  }
 ]
}
