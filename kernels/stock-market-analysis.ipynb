{
 "metadata": {
  "kernelspec": {
   "language": "python",
   "display_name": "Python 3",
   "name": "python3"
  },
  "language_info": {
   "name": "python",
   "version": "3.7.12",
   "mimetype": "text/x-python",
   "codemirror_mode": {
    "name": "ipython",
    "version": 3
   },
   "pygments_lexer": "ipython3",
   "nbconvert_exporter": "python",
   "file_extension": ".py"
  }
 },
 "nbformat_minor": 4,
 "nbformat": 4,
 "cells": [
  {
   "cell_type": "code",
   "source": [
    "!pip install pandas_ta > /tmp/install.log 2>&1 || exit\n",
    "import pandas as pd\n",
    "pd.plotting.register_matplotlib_converters()\n",
    "import matplotlib.pyplot as plt\n",
    "%matplotlib inline\n",
    "import seaborn as sns\n",
    "import pandas_ta as pta\n",
    "import numpy as np\n",
    "import math\n",
    "import re\n",
    "from sklearn.preprocessing import StandardScaler"
   ],
   "metadata": {
    "_uuid": "8f2839f25d086af736a60e9eeb907d3b93b6e0e5",
    "_cell_guid": "b1076dfc-b9ad-4769-8c92-a6c4dae69d19",
    "_kg_hide-input": true,
    "_kg_hide-output": true,
    "execution": {
     "iopub.status.busy": "2023-04-01T07:37:14.668812Z",
     "iopub.execute_input": "2023-04-01T07:37:14.669544Z",
     "iopub.status.idle": "2023-04-01T07:37:31.216466Z",
     "shell.execute_reply.started": "2023-04-01T07:37:14.669434Z",
     "shell.execute_reply": "2023-04-01T07:37:31.215381Z"
    },
    "trusted": true,
    "pycharm": {
     "name": "#%%\n"
    }
   },
   "execution_count": null,
   "outputs": []
  },
  {
   "cell_type": "code",
   "source": [
    "!mkdir -p content || exit\n",
    "![ -d content/stock-market-analysis ] && (rm -r content/stock-market-analysis || exit)\n",
    "!git clone https://github.com/jasineri/stock-market-analysis.git content/stock-market-analysis || exit"
   ],
   "metadata": {
    "_kg_hide-output": true,
    "_kg_hide-input": true,
    "execution": {
     "iopub.status.busy": "2023-04-01T07:37:31.220529Z",
     "iopub.execute_input": "2023-04-01T07:37:31.220917Z",
     "iopub.status.idle": "2023-04-01T07:38:01.082563Z",
     "shell.execute_reply.started": "2023-04-01T07:37:31.220883Z",
     "shell.execute_reply": "2023-04-01T07:38:01.080989Z"
    },
    "trusted": true,
    "pycharm": {
     "name": "#%%\n"
    }
   },
   "execution_count": null,
   "outputs": []
  },
  {
   "cell_type": "code",
   "source": [
    "!unzip -o content/stock-market-analysis/datasets/shares.zip -d content/stock-market-analysis/datasets/ || exit"
   ],
   "metadata": {
    "_kg_hide-input": true,
    "_kg_hide-output": true,
    "execution": {
     "iopub.status.busy": "2023-04-01T07:38:01.084715Z",
     "iopub.execute_input": "2023-04-01T07:38:01.085233Z",
     "iopub.status.idle": "2023-04-01T07:38:03.237273Z",
     "shell.execute_reply.started": "2023-04-01T07:38:01.085186Z",
     "shell.execute_reply": "2023-04-01T07:38:03.235873Z"
    },
    "trusted": true,
    "pycharm": {
     "name": "#%%\n"
    }
   },
   "execution_count": null,
   "outputs": []
  },
  {
   "cell_type": "code",
   "source": [
    "class Visualisation:\n",
    "    @staticmethod\n",
    "    def show_scaled_plot(data_input, title, show_legend=False):\n",
    "        data_pivot = data_input.pivot(index='DATE', columns='ISIN', values='PRICE')\n",
    "        df_scaled = pd.DataFrame(StandardScaler().fit_transform(data_pivot), index=data_pivot.index,\n",
    "                                 columns=data_pivot.columns)\n",
    "\n",
    "        ax = df_scaled.plot(legend=False)\n",
    "        if show_legend:\n",
    "            ax.legend(bbox_to_anchor=(1.1, 1.05))\n",
    "        plt.title(title)\n",
    "        plt.ylabel(\"Price\")\n",
    "        plt.xlabel(\"Date\")\n",
    "        plt.gcf().autofmt_xdate()\n",
    "        plt.show()\n",
    "\n",
    "    @staticmethod\n",
    "    def show_trades_plot(ax, stock_data, stock_trade_data, isin):\n",
    "        stock_data = stock_data[stock_data['ISIN'].isin([isin])]\n",
    "        stock_trade_data = stock_trade_data[stock_trade_data['ISIN'].isin([isin])].copy()\n",
    "        stock_trade_data['BUYS'] = np.where(stock_trade_data['ACTION'] == 'BUY', 1, 0)\n",
    "        stock_trade_data['SELLS'] = np.where(stock_trade_data['ACTION'] == 'SELL', -1, 0)\n",
    "        stock_data = pd.merge(stock_data,\n",
    "                              stock_trade_data,\n",
    "                              how='left',\n",
    "                              on=['ISIN', 'DATE'])\n",
    "        aggregated_stock_data = stock_data[['DATE', 'BUYS', 'SELLS']].groupby(['DATE']).sum()\n",
    "\n",
    "        ax2 = ax.twinx()\n",
    "        ax2.set_ylim([-2, 2])\n",
    "        ax2.bar(aggregated_stock_data.index, aggregated_stock_data['BUYS'] * 0.1, width=1, color='g', bottom=-1.5)\n",
    "        ax2.bar(aggregated_stock_data.index, aggregated_stock_data['SELLS'] * 0.1, width=1, color='r', bottom=-1.5)\n",
    "        ax2.set_yticks([])\n",
    "        ax.plot(stock_data['DATE'], stock_data['PRICE'], color='b')\n",
    "        ax.grid(True)\n",
    "        plt.title(re.findall(r'name=([^,]+)|$', stock_trade_data.iloc[0]['DATA'])[0] + \", \" + isin, pad=0)\n",
    "        ax.set_zorder(1)\n",
    "        ax.patch.set_visible(False)\n",
    "        plt.setp(ax.get_xticklabels(), rotation=15, ha='right')"
   ],
   "metadata": {
    "_uuid": "8f2839f25d086af736a60e9eeb907d3b93b6e0e5",
    "_cell_guid": "b1076dfc-b9ad-4769-8c92-a6c4dae69d19",
    "_kg_hide-input": true,
    "execution": {
     "iopub.status.busy": "2023-04-01T07:38:03.241898Z",
     "iopub.execute_input": "2023-04-01T07:38:03.242351Z",
     "iopub.status.idle": "2023-04-01T07:38:03.258409Z",
     "shell.execute_reply.started": "2023-04-01T07:38:03.242316Z",
     "shell.execute_reply": "2023-04-01T07:38:03.257024Z"
    },
    "trusted": true,
    "pycharm": {
     "name": "#%%\n"
    }
   },
   "execution_count": null,
   "outputs": []
  },
  {
   "cell_type": "code",
   "source": [
    "stockLookupData = pd.read_csv(\"content/stock-market-analysis/datasets/share_lookup.csv\",\n",
    "                              index_col=\"ID\")\n",
    "\n",
    "stockPriceData = pd.read_csv(\"content/stock-market-analysis/datasets/share.csv\",\n",
    "                        parse_dates=['TS'])\n",
    "\n",
    "stockTradeData = pd.read_csv(\"content/stock-market-analysis/datasets/share_trade.csv\",\n",
    "                             parse_dates=['TS'])\n",
    "\n",
    "# Use last 33 days only\n",
    "stockPriceData = stockPriceData[stockPriceData['TS'] >= pd.Timestamp.today() - pd.offsets.Day(33)]\n",
    "stockTradeData = stockTradeData[stockTradeData['TS'] >= pd.Timestamp.today() - pd.offsets.Day(33)]\n",
    "\n",
    "stockPriceData = pd.merge(stockPriceData,\n",
    "                     stockLookupData,\n",
    "                     on='ID')\n",
    "\n",
    "stockPriceData['DATE'] = stockPriceData['TS'].dt.date\n",
    "stockPriceData = stockPriceData.drop(['ID', 'TS'], axis=1)\n",
    "stockPriceData = stockPriceData.groupby(['DATE', 'ISIN'])['PRICE'].mean().reset_index(level=['DATE', 'ISIN'])\n",
    "\n",
    "stockTradeData['DATE'] = stockTradeData['TS'].dt.date\n",
    "stockTradeData = stockTradeData.drop(['TS', 'MS'], axis=1)"
   ],
   "metadata": {
    "_uuid": "8f2839f25d086af736a60e9eeb907d3b93b6e0e5",
    "_cell_guid": "b1076dfc-b9ad-4769-8c92-a6c4dae69d19",
    "_kg_hide-input": true,
    "execution": {
     "iopub.status.busy": "2023-04-01T07:38:03.259933Z",
     "iopub.execute_input": "2023-04-01T07:38:03.260241Z",
     "iopub.status.idle": "2023-04-01T07:38:09.386888Z",
     "shell.execute_reply.started": "2023-04-01T07:38:03.260213Z",
     "shell.execute_reply": "2023-04-01T07:38:09.385781Z"
    },
    "trusted": true,
    "pycharm": {
     "name": "#%%\n"
    }
   },
   "execution_count": null,
   "outputs": []
  },
  {
   "cell_type": "markdown",
   "source": [
    "**Scaled Stock Prices**"
   ],
   "metadata": {
    "pycharm": {
     "name": "#%% md\n"
    }
   }
  },
  {
   "cell_type": "code",
   "source": [
    "Visualisation.show_scaled_plot(stockPriceData, \"Scaled Stock Prices\")"
   ],
   "metadata": {
    "_kg_hide-input": true,
    "execution": {
     "iopub.status.busy": "2023-04-01T07:38:09.388426Z",
     "iopub.execute_input": "2023-04-01T07:38:09.388834Z",
     "iopub.status.idle": "2023-04-01T07:38:10.58226Z",
     "shell.execute_reply.started": "2023-04-01T07:38:09.3888Z",
     "shell.execute_reply": "2023-04-01T07:38:10.581314Z"
    },
    "trusted": true,
    "pycharm": {
     "name": "#%%\n"
    }
   },
   "execution_count": null,
   "outputs": []
  },
  {
   "cell_type": "markdown",
   "source": [
    "**Top 25 Oversold Stocks, RSI Heatmap**"
   ],
   "metadata": {
    "pycharm": {
     "name": "#%% md\n"
    }
   }
  },
  {
   "cell_type": "code",
   "source": [
    "CustomStrategy = pta.Strategy(\n",
    "    name=\"TA Idicators\",\n",
    "    ta=[\n",
    "        {\"kind\": \"rsi\", \"length\": 14, \"close\": \"PRICE\"}\n",
    "    ]\n",
    ")\n",
    "\n",
    "\n",
    "def apply_strat(param):\n",
    "    param.ta.strategy(CustomStrategy)\n",
    "    return param\n",
    "\n",
    "\n",
    "dfTaIndicators = stockPriceData.groupby(['ISIN'], group_keys=False).apply(apply_strat)\n",
    "dfTopRsi = dfTaIndicators.groupby(['DATE', 'ISIN'])[['RSI_14']].max().sort_values(by=['DATE', 'RSI_14'], ascending=[False, True]).head(25).reset_index(level=0)\n",
    "dfFlopRsi = dfTaIndicators.groupby(['DATE', 'ISIN'])[['RSI_14']].max().sort_values(by=['DATE', 'RSI_14'], ascending=[False, False]).head(25).reset_index(level=0)\n",
    "dfTaIndicators = dfTaIndicators[dfTaIndicators['ISIN'].isin(dfTopRsi.index)]\n",
    "dfTaIndicatorsPivot = dfTaIndicators.pivot_table(index='DATE', columns='ISIN', values='RSI_14')\n",
    "\n",
    "fig = plt.figure(figsize=(40, 15))\n",
    "plt.title(\"Top 25 Oversold Stocks, RSI Heatmap\")\n",
    "sns.heatmap(dfTaIndicatorsPivot[dfTopRsi.index], cmap='RdYlBu_r')\n",
    "plt.show()\n",
    "dfTopRsi"
   ],
   "metadata": {
    "_kg_hide-input": true,
    "execution": {
     "iopub.status.busy": "2023-04-01T07:47:32.698775Z",
     "iopub.execute_input": "2023-04-01T07:47:32.699167Z",
     "iopub.status.idle": "2023-04-01T07:48:33.60204Z",
     "shell.execute_reply.started": "2023-04-01T07:47:32.699135Z",
     "shell.execute_reply": "2023-04-01T07:48:33.600805Z"
    },
    "trusted": true,
    "pycharm": {
     "name": "#%%\n"
    }
   },
   "execution_count": null,
   "outputs": []
  },
  {
   "cell_type": "markdown",
   "source": [
    "**Top 10 Oversold Stocks, Scaled Prices**"
   ],
   "metadata": {
    "pycharm": {
     "name": "#%% md\n"
    }
   }
  },
  {
   "cell_type": "code",
   "source": [
    "Visualisation.show_scaled_plot(stockPriceData[stockPriceData['ISIN'].isin(dfTopRsi.head(10).index)], \"Top 10 Oversold Stocks, Scaled Prices\", True)"
   ],
   "metadata": {
    "_kg_hide-input": true,
    "execution": {
     "iopub.status.busy": "2023-04-01T07:39:13.176021Z",
     "iopub.execute_input": "2023-04-01T07:39:13.176474Z",
     "iopub.status.idle": "2023-04-01T07:39:13.554712Z",
     "shell.execute_reply.started": "2023-04-01T07:39:13.176429Z",
     "shell.execute_reply": "2023-04-01T07:39:13.553586Z"
    },
    "trusted": true,
    "pycharm": {
     "name": "#%%\n"
    }
   },
   "execution_count": null,
   "outputs": []
  },
  {
   "cell_type": "markdown",
   "source": [
    "**Next 10 Oversold Stocks, Scaled Prices**"
   ],
   "metadata": {
    "pycharm": {
     "name": "#%% md\n"
    }
   }
  },
  {
   "cell_type": "code",
   "source": [
    "Visualisation.show_scaled_plot(stockPriceData[stockPriceData['ISIN'].isin(dfTopRsi.tail(15).head(10).index)], \"Next 10 Oversold Stocks, Scaled Prices\", True)"
   ],
   "metadata": {
    "_kg_hide-input": true,
    "execution": {
     "iopub.status.busy": "2023-04-01T07:39:13.556369Z",
     "iopub.execute_input": "2023-04-01T07:39:13.556843Z",
     "iopub.status.idle": "2023-04-01T07:39:13.926019Z",
     "shell.execute_reply.started": "2023-04-01T07:39:13.556803Z",
     "shell.execute_reply": "2023-04-01T07:39:13.924928Z"
    },
    "trusted": true,
    "pycharm": {
     "name": "#%%\n"
    }
   },
   "execution_count": null,
   "outputs": []
  },
  {
   "cell_type": "markdown",
   "source": [
    "**Top 10 Overbought Stocks, Scaled Prices**"
   ],
   "metadata": {
    "pycharm": {
     "name": "#%% md\n"
    }
   }
  },
  {
   "cell_type": "code",
   "source": [
    "Visualisation.show_scaled_plot(stockPriceData[stockPriceData['ISIN'].isin(dfFlopRsi.head(10).index)], \"Top 10 Overbought Stocks, Scaled Prices\", True)"
   ],
   "metadata": {
    "execution": {
     "iopub.status.busy": "2023-04-01T07:50:02.170866Z",
     "iopub.execute_input": "2023-04-01T07:50:02.171256Z",
     "iopub.status.idle": "2023-04-01T07:50:02.550579Z",
     "shell.execute_reply.started": "2023-04-01T07:50:02.171225Z",
     "shell.execute_reply": "2023-04-01T07:50:02.549485Z"
    },
    "_kg_hide-input": true,
    "trusted": true,
    "pycharm": {
     "name": "#%%\n"
    }
   },
   "execution_count": null,
   "outputs": []
  },
  {
   "cell_type": "markdown",
   "source": [
    "**Stock Trades Charts with Buys and Sells**"
   ],
   "metadata": {
    "pycharm": {
     "name": "#%% md\n"
    }
   }
  },
  {
   "cell_type": "code",
   "source": [
    "stockTradeDataIsins = stockTradeData['ISIN'].drop_duplicates()\n",
    "fig = plt.figure()\n",
    "fig.set_figwidth(15)\n",
    "fig.set_figheight(5 * stockTradeDataIsins.count() / 2)\n",
    "idx = 1\n",
    "for isin in stockTradeDataIsins:\n",
    "    ax = plt.subplot(math.ceil(stockTradeDataIsins.count() / 2), 2, idx)\n",
    "    Visualisation.show_trades_plot(ax, stockPriceData, stockTradeData, isin)\n",
    "    idx += 1\n",
    "plt.show()"
   ],
   "metadata": {
    "_kg_hide-input": true,
    "execution": {
     "iopub.status.busy": "2023-04-01T07:39:13.938268Z",
     "iopub.status.idle": "2023-04-01T07:39:13.938737Z",
     "shell.execute_reply.started": "2023-04-01T07:39:13.938532Z",
     "shell.execute_reply": "2023-04-01T07:39:13.938553Z"
    },
    "trusted": true,
    "pycharm": {
     "name": "#%%\n"
    }
   },
   "execution_count": null,
   "outputs": []
  }
 ]
}